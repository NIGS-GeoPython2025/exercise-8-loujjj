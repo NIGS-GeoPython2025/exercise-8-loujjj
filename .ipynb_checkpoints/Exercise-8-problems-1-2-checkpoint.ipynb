{
 "cells": [
  {
   "cell_type": "markdown",
   "metadata": {
    "deletable": false,
    "nbgrader": {
     "cell_type": "markdown",
     "checksum": "536d5043735a5be3820883d2bf8ad2ab",
     "grade": false,
     "grade_id": "cell-c1d06e8c992c2c09",
     "locked": true,
     "schema_version": 3,
     "solution": false
    },
    "tags": []
   },
   "source": [
    "# Exercise 8: Coding and visualizing geostatistics (17 points)\n",
    "\n",
    "The exercise this week will allow you to gain some experience with basic geostatistics by creating some Python functions for performing common statistical calculations and analyzing data from the [Smithsonian Institution's Global Volcanism Program](https://volcano.si.edu/).\n",
    "\n",
    "One of the goals of this part of the course is to develop your quantitative geoscience skills, including learning how to convert mathematical equations to Python code. Doing this allows you to explore how various equations work and produce useful data plots or predictions, something increasingly done by geoscience professionals.\n",
    "\n",
    "You'll use functions to calculate some statistics related to Holocene volcanoes from the [Smithsonian Institution's Global Volcanism Program](https://volcano.si.edu/).\n",
    "\n",
    "### Scores for this problem\n",
    "\n",
    "**Your score on this problem will be based on following criteria:**\n",
    "\n",
    "- Properly converting the given formulas to Python functions and saving them in the Python script file `gdam_functions.py`\n",
    "    - **Note**: You should not use existing Python, Pandas or NumPy functions in the functions you create, other than perhaps a function for calculating the square root\n",
    "- Including comments that explain what most lines in the code do\n",
    "- Uploading your notebook and script file to your GitHub repository for this week's exercise"
   ]
  },
  {
   "cell_type": "code",
   "execution_count": null,
   "metadata": {
    "deletable": false,
    "nbgrader": {
     "cell_type": "code",
     "checksum": "6955ffc6dae8b03333b9d80096083685",
     "grade": false,
     "grade_id": "problem_1_ag_p1_mean",
     "locked": false,
     "schema_version": 3,
     "solution": true,
     "task": false
    }
   },
   "outputs": [],
   "source": [
    "# Use your mean function below to calculate the mean value of the list [1, 6, 3]\n",
    "from introqg_functions import mean\n",
    "\n",
    "test_list = [1, 6, 3]\n",
    "test_mean = None\n",
    "\n",
    "# YOUR CODE HERE\n",
    "raise NotImplementedError()"
   ]
  },
  {
   "cell_type": "code",
   "execution_count": null,
   "metadata": {
    "deletable": false,
    "editable": false,
    "nbgrader": {
     "cell_type": "code",
     "checksum": "0da938d870a5b9414bd10acebd5fa752",
     "grade": true,
     "grade_id": "problem_1_ag_p1_mean_tests",
     "locked": true,
     "points": 1,
     "schema_version": 3,
     "solution": false
    }
   },
   "outputs": [],
   "source": [
    "# These tests with small lists should work\n",
    "\n",
    "from nose.tools import assert_equal, assert_true\n",
    "from introqg_functions import mean\n",
    "\n",
    "# Test mean function with some lists\n",
    "list1 = [1, 2, 3, 4, 5]\n",
    "list2 = [-1, 0, -5, 2]\n",
    "\n",
    "# Calculate list means\n",
    "list1_mean = mean(list1)\n",
    "list2_mean = mean(list2)\n",
    "\n",
    "# Print mean values\n",
    "print(f\"Mean for list1: {list1_mean}\")\n",
    "print(f\"Mean for list2: {list2_mean}\")\n",
    "\n",
    "# Check that the mean values are correct\n",
    "assert_equal(round(list1_mean, 3), 3.000)\n",
    "assert_equal(round(list2_mean, 3), -1.000)\n"
   ]
  },
  {
   "cell_type": "markdown",
   "metadata": {
    "deletable": false,
    "nbgrader": {
     "cell_type": "markdown",
     "checksum": "5218607356ff7e9a8147c9f2dee6d942",
     "grade": false,
     "grade_id": "cell-4b4372c4e64f376f",
     "locked": true,
     "schema_version": 3,
     "solution": false,
     "task": false
    },
    "tags": []
   },
   "source": [
    "## Problem 1: Analyzing volcano data (8 points)\n",
    "\n",
    "In this problem we'll utilize the functions generated in Problem 1 to calculate some statistics related to Holocene volcanoes from the [Smithsonian Institution's Global Volcanism Program](https://volcano.si.edu/).\n",
    "\n",
    "### Scores for this problem\n",
    "\n",
    "**Your score on this problem will be based on following criteria:**\n",
    "\n",
    "- Reading and processing the [data file](data/GVP_Volcano_List_Holocene.csv)\n",
    "- Cleaning the raw data as instructed\n",
    "- Creating a new DataFrame of regional volcano statistics\n",
    "- Including comments that explain what most lines in the code do\n",
    "- Answering a couple questions at the end of the problem\n",
    "- Uploading your notebook to your GitHub repository for this week's exercise"
   ]
  },
  {
   "cell_type": "markdown",
   "metadata": {
    "deletable": false,
    "editable": false,
    "nbgrader": {
     "cell_type": "markdown",
     "checksum": "2138a5d45763a818fc40444e92f40a27",
     "grade": false,
     "grade_id": "cell-2e7e5201541afe62",
     "locked": true,
     "schema_version": 3,
     "solution": false,
     "task": false
    }
   },
   "source": [
    "### Part 1: Reading the data file (1.5 points)\n",
    "\n",
    "The first step in this exercise is to read in the [data file](data/GVP_Volcano_List_Holocene.csv) we're using. \n",
    "\n",
    "- For this, you should use the pandas `read_csv()` funtion to read in the data file [data/GVP_Volcano_List_Holocene.csv](data/GVP_Volcano_List_Holocene.csv) to the variable `data`\n",
    "    - Use the semicolon character `;` as the separator between columns\n",
    "    - Skip the first row"
   ]
  },
  {
   "cell_type": "code",
   "execution_count": null,
   "metadata": {
    "deletable": false,
    "nbgrader": {
     "cell_type": "code",
     "checksum": "b0e117a3f5e4a582f73c72e51dac9a8d",
     "grade": false,
     "grade_id": "problem_2_ag_p1_read_data",
     "locked": false,
     "schema_version": 3,
     "solution": true,
     "task": false
    }
   },
   "outputs": [],
   "source": [
    "# YOUR CODE HERE\n",
    "raise NotImplementedError() "
   ]
  },
  {
   "cell_type": "code",
   "execution_count": null,
   "metadata": {
    "deletable": false,
    "editable": false,
    "nbgrader": {
     "cell_type": "code",
     "checksum": "d5093c805f7479686984e0dd1ae063a7",
     "grade": true,
     "grade_id": "problem_2_ag_p1_read_data_test1",
     "locked": true,
     "points": 0.5,
     "schema_version": 3,
     "solution": false,
     "task": false
    }
   },
   "outputs": [],
   "source": [
    "# This test print should print the head and the column names\n",
    "print(data.head(1))\n",
    "print(data.columns)\n"
   ]
  },
  {
   "cell_type": "code",
   "execution_count": null,
   "metadata": {
    "deletable": false,
    "editable": false,
    "nbgrader": {
     "cell_type": "code",
     "checksum": "1e4f1f31ea8dce2019a6ce136efa6f9b",
     "grade": true,
     "grade_id": "problem_2_ag_p1_read_data_test2",
     "locked": true,
     "points": 0.5,
     "schema_version": 3,
     "solution": false,
     "task": false
    }
   },
   "outputs": [],
   "source": [
    "# This test print should print the first row of data\n",
    "print(data.loc[0].values)\n"
   ]
  },
  {
   "cell_type": "code",
   "execution_count": null,
   "metadata": {
    "deletable": false,
    "editable": false,
    "nbgrader": {
     "cell_type": "code",
     "checksum": "e6ade1facf5ba11adac4ebfb78c2dcf3",
     "grade": true,
     "grade_id": "problem_2_ag_p1_read_data_test3",
     "locked": true,
     "points": 0.5,
     "schema_version": 3,
     "solution": false,
     "task": false
    }
   },
   "outputs": [],
   "source": [
    "# This test print should print the number of rows of data\n",
    "print(f\"The DataFrame contains {len(data)} rows.\")\n"
   ]
  },
  {
   "cell_type": "markdown",
   "metadata": {
    "nbgrader": {
     "cell_type": "markdown",
     "checksum": "b2e088a7712f840bc3aa7ee425f07792",
     "grade": false,
     "grade_id": "cell-5c4c6da32a142f27",
     "locked": true,
     "schema_version": 3,
     "solution": false,
     "task": false
    },
    "tags": []
   },
   "source": [
    "### Part 2: Preparing the data (1 point)\n",
    "\n",
    "Before moving to using our statistical functions, we need to clean up our data a bit.\n",
    "\n",
    "- Create a subset of the `data` dataframe called `clean_data` that contains only volcanoes with elevations at and above sea level\n",
    "- Drop rows from the `clean_data` DataFrame with NaNs in the 'Tectonic Setting' column"
   ]
  },
  {
   "cell_type": "code",
   "execution_count": null,
   "metadata": {
    "deletable": false,
    "nbgrader": {
     "cell_type": "code",
     "checksum": "96680ee6c9360abad5c36b551ef5af14",
     "grade": false,
     "grade_id": "problem_2_ag_p2_clean_data",
     "locked": false,
     "schema_version": 3,
     "solution": true,
     "task": false
    }
   },
   "outputs": [],
   "source": [
    "# YOUR CODE HERE\n",
    "raise NotImplementedError() "
   ]
  },
  {
   "cell_type": "code",
   "execution_count": null,
   "metadata": {
    "deletable": false,
    "editable": false,
    "nbgrader": {
     "cell_type": "code",
     "checksum": "0ea5432d1ab3f5ad29898a745b03d62d",
     "grade": true,
     "grade_id": "problem_2_ag_p2_clean_data_test1",
     "locked": true,
     "points": 0.5,
     "schema_version": 3,
     "solution": false,
     "task": false
    }
   },
   "outputs": [],
   "source": [
    "# This test print should print the head\n",
    "print(clean_data.head(1))\n"
   ]
  },
  {
   "cell_type": "code",
   "execution_count": null,
   "metadata": {
    "deletable": false,
    "editable": false,
    "nbgrader": {
     "cell_type": "code",
     "checksum": "5211c32b2e2b954e6cc18cd052734ea5",
     "grade": true,
     "grade_id": "problem_2_ag_p2_clean_data_test2",
     "locked": true,
     "points": 0.5,
     "schema_version": 3,
     "solution": false,
     "task": false
    }
   },
   "outputs": [],
   "source": [
    "# This test print should print the last 5 tectonic settings\n",
    "print(clean_data[\"Tectonic Setting\"].tail(5))\n"
   ]
  },
  {
   "cell_type": "markdown",
   "metadata": {
    "deletable": false,
    "editable": false,
    "nbgrader": {
     "cell_type": "markdown",
     "checksum": "0a883f4655636cdb54f980be4090abaa",
     "grade": false,
     "grade_id": "cell-2f8914d165f3cabb",
     "locked": true,
     "schema_version": 3,
     "solution": false,
     "task": false
    },
    "tags": []
   },
   "source": [
    "### Part 3: Global volcano statistics (1 point)\n",
    "\n",
    "With our clean data, we can now calculate some global statistical values for Holocene volcanoes.\n",
    "\n",
    "- Calculate the mean elevation of all volcanoes in the `clean_data` DataFrame as variable `global_mean`\n",
    "- Calculate the standard deviation in the elevation of all the volcanoes in the `clean_data` DataFrame as variable `global_stddev`\n",
    "- Calculate the standard error in the elevation of all the volcanoes in the `clean_data` DataFrame as variable `global_stderr`\n",
    "\n",
    "**Note**: You will need to use the `.values` attribute with the elevation data to calculate the requested values using the functions you created in Problem 1."
   ]
  },
  {
   "cell_type": "code",
   "execution_count": null,
   "metadata": {
    "deletable": false,
    "nbgrader": {
     "cell_type": "code",
     "checksum": "a5b959af72587ced8a6b7ababbb4fe06",
     "grade": false,
     "grade_id": "problem_2_ag_p3_global_stats",
     "locked": false,
     "schema_version": 3,
     "solution": true,
     "task": false
    }
   },
   "outputs": [],
   "source": [
    "import numpy as np\n",
    "\n",
    "global_mean = None\n",
    "global_stddev = None\n",
    "global_stderr = None\n",
    "\n",
    "# YOUR CODE HERE\n",
    "raise NotImplementedError() \n"
   ]
  },
  {
   "cell_type": "code",
   "execution_count": null,
   "metadata": {
    "deletable": false,
    "editable": false,
    "nbgrader": {
     "cell_type": "code",
     "checksum": "73b5d13347cd3d692863d61292f0f21c",
     "grade": true,
     "grade_id": "problem_2_ag_p3_global_stats_test1",
     "locked": true,
     "points": 0.5,
     "schema_version": 3,
     "solution": false,
     "task": false
    }
   },
   "outputs": [],
   "source": [
    "# This should print the global mean volcano elevation\n",
    "print(f\"My global average volcano elevation is {global_mean} meters.\")\n",
    "print(\"The expected value is approximately 1922 meters.\")\n"
   ]
  },
  {
   "cell_type": "code",
   "execution_count": null,
   "metadata": {
    "deletable": false,
    "editable": false,
    "nbgrader": {
     "cell_type": "code",
     "checksum": "41e100a1ac76f8e97209e70a0ab61b74",
     "grade": true,
     "grade_id": "problem_2_ag_p3_global_stats_test2",
     "locked": true,
     "points": 0.25,
     "schema_version": 3,
     "solution": false,
     "task": false
    }
   },
   "outputs": [],
   "source": [
    "# This should print the global standard deviation in volcano elevation\n",
    "print(f\"My global standard deviation in volcano elevation is {global_stddev} meters.\")\n",
    "print(\"The expected value is approximately 1406 meters.\")\n"
   ]
  },
  {
   "cell_type": "code",
   "execution_count": null,
   "metadata": {
    "deletable": false,
    "editable": false,
    "nbgrader": {
     "cell_type": "code",
     "checksum": "36f0a9c467d83943a49442292234c561",
     "grade": true,
     "grade_id": "problem_2_ag_p3_global_stats_test3",
     "locked": true,
     "points": 0.25,
     "schema_version": 3,
     "solution": false,
     "task": false
    }
   },
   "outputs": [],
   "source": [
    "# This should print the global standard deviation in volcano elevation\n",
    "print(f\"My global standard error in volcano elevation is {global_stderr} meters.\")\n",
    "print(\"The expected value is approximately 39 meters.\")\n"
   ]
  },
  {
   "cell_type": "markdown",
   "metadata": {
    "deletable": false,
    "editable": false,
    "nbgrader": {
     "cell_type": "markdown",
     "checksum": "f506518ac08325d4330a6ce7dd75df4b",
     "grade": false,
     "grade_id": "cell-651b9988c4cd7924",
     "locked": true,
     "schema_version": 3,
     "solution": false
    }
   },
   "source": [
    "### Part 4: Compiling regional volcano statistics (2 points)\n",
    "\n",
    "Using an approach similar to that in Part 3, we can now calculate some statistics on volcanoes in various geographic regions.\n",
    "\n",
    "- Create a variable `regions` that contains the unique 'Region' values from the `clean_data` DataFrame\n",
    "- Using a `for` loop, loop over each region and append its mean, standard deviation, and standard error in volcano elevation to the empty list variables `means`, `stddevs`, and `stderrs`\n",
    "    - **Note**: In your `for` loop you should first extract a subset of data using `.loc` to select the elevation values for the region of interest\n",
    "    - You will also want to convert your subset of elevations to an array of values using the `.values` attribute before using your functions"
   ]
  },
  {
   "cell_type": "code",
   "execution_count": null,
   "metadata": {
    "deletable": false,
    "nbgrader": {
     "cell_type": "code",
     "checksum": "2dda7b647753c54e43b7f1e51d5367bc",
     "grade": false,
     "grade_id": "problem_2_ag_p4_regional_data",
     "locked": false,
     "schema_version": 3,
     "solution": true,
     "task": false
    }
   },
   "outputs": [],
   "source": [
    "means = []\n",
    "stddevs = []\n",
    "stderrs = []\n",
    "\n",
    "# YOUR CODE HERE\n",
    "raise NotImplementedError()"
   ]
  },
  {
   "cell_type": "code",
   "execution_count": null,
   "metadata": {
    "deletable": false,
    "editable": false,
    "nbgrader": {
     "cell_type": "code",
     "checksum": "3ae877d99164d8b8fd6a9826ec7c4f99",
     "grade": true,
     "grade_id": "problem_2_ag_p4_regional_data_test1",
     "locked": true,
     "points": 0.5,
     "schema_version": 3,
     "solution": false,
     "task": false
    }
   },
   "outputs": [],
   "source": [
    "# This should print the last value in the regions array\n",
    "print(f\"The last region is {regions[-1]}.\")\n"
   ]
  },
  {
   "cell_type": "code",
   "execution_count": null,
   "metadata": {
    "deletable": false,
    "editable": false,
    "nbgrader": {
     "cell_type": "code",
     "checksum": "75c19b09f94c1499bc2e60c37215c8d0",
     "grade": true,
     "grade_id": "problem_2_ag_p4_regional_data_test2",
     "locked": true,
     "points": 0.5,
     "schema_version": 3,
     "solution": false,
     "task": false
    }
   },
   "outputs": [],
   "source": [
    "# This should print the last value in the means list\n",
    "print(f\"The last mean value is {means[-1]} meters.\")\n"
   ]
  },
  {
   "cell_type": "code",
   "execution_count": null,
   "metadata": {
    "deletable": false,
    "editable": false,
    "nbgrader": {
     "cell_type": "code",
     "checksum": "da7950f99c1cb1a480e8c49caba57656",
     "grade": true,
     "grade_id": "problem_2_ag_p4_regional_data_test3",
     "locked": true,
     "points": 0.5,
     "schema_version": 3,
     "solution": false,
     "task": false
    }
   },
   "outputs": [],
   "source": [
    "# This should print the last value in the stddevs list\n",
    "print(f\"The last stddev value is {stddevs[-1]} meters.\")\n"
   ]
  },
  {
   "cell_type": "code",
   "execution_count": null,
   "metadata": {
    "nbgrader": {
     "cell_type": "code",
     "checksum": "df394790803fbe616090fba8d3b8094f",
     "grade": true,
     "grade_id": "problem_2_ag_p4_regional_data_test4",
     "locked": true,
     "points": 0.5,
     "schema_version": 3,
     "solution": false,
     "task": false
    },
    "tags": []
   },
   "outputs": [],
   "source": [
    "# This should print the last value in the stderrs list\n",
    "print(f\"The last stderr value is {stderrs[-1]} meters.\")\n"
   ]
  },
  {
   "cell_type": "markdown",
   "metadata": {
    "deletable": false,
    "editable": false,
    "nbgrader": {
     "cell_type": "markdown",
     "checksum": "439e575d36f334208e4a9e594aadb050",
     "grade": false,
     "grade_id": "cell-e214c3a30cdb77c2",
     "locked": true,
     "schema_version": 3,
     "solution": false,
     "task": false
    }
   },
   "source": [
    "### Part 5: Creating a regional DataFrame (1.5 points)\n",
    "\n",
    "The last step in this problem is to combine our new lists into a new Pandas DataFrame.\n",
    "\n",
    "- Create a new DataFrame called `region_data` using `regions` as the index and the `means`, `stddevs`, and `stderrs` lists as the column data\n",
    "    - **Hint**: When creating a DataFrame, column data can be specified in a dictionary using the `data` keyword (e.g., `data = {'Column heading': column_values}`), where `'Column heading'` would be the name of the column, and `column_values` would be the data in that column\n",
    "    - **Hint**: The `index` parameter can be used to indicate the values to be used for the index"
   ]
  },
  {
   "cell_type": "code",
   "execution_count": null,
   "metadata": {
    "deletable": false,
    "nbgrader": {
     "cell_type": "code",
     "checksum": "5dfe64e28d398f1be3c558e4e8db9326",
     "grade": false,
     "grade_id": "problem_2_ag_p5_region_dataframe",
     "locked": false,
     "schema_version": 3,
     "solution": true,
     "task": false
    }
   },
   "outputs": [],
   "source": [
    "region_data = None\n",
    "\n",
    "# YOUR CODE HERE\n",
    "raise NotImplementedError() \n"
   ]
  },
  {
   "cell_type": "code",
   "execution_count": null,
   "metadata": {
    "deletable": false,
    "editable": false,
    "nbgrader": {
     "cell_type": "code",
     "checksum": "30412e4da220f0ae6798f4f9a5263ab9",
     "grade": true,
     "grade_id": "problem_2_ag_p5_region_dataframe_test1",
     "locked": true,
     "points": 0.5,
     "schema_version": 3,
     "solution": false,
     "task": false
    }
   },
   "outputs": [],
   "source": [
    "# This should print the last row in the region_data DataFrame\n",
    "print(region_data.tail(1))\n"
   ]
  },
  {
   "cell_type": "code",
   "execution_count": null,
   "metadata": {
    "deletable": false,
    "editable": false,
    "nbgrader": {
     "cell_type": "code",
     "checksum": "a8e5c3d2da7ae0b003ffd445b78137e1",
     "grade": true,
     "grade_id": "problem_2_ag_p5_region_dataframe_test2",
     "locked": true,
     "points": 0.5,
     "schema_version": 3,
     "solution": false,
     "task": false
    }
   },
   "outputs": [],
   "source": [
    "# This should print the shape of the DataFrame\n",
    "print(f\"DataFrame dimensions: {region_data.shape}\")\n"
   ]
  },
  {
   "cell_type": "code",
   "execution_count": null,
   "metadata": {
    "deletable": false,
    "editable": false,
    "nbgrader": {
     "cell_type": "code",
     "checksum": "4a624295739e9f94f66b5d8d39e82fe4",
     "grade": true,
     "grade_id": "problem_2_ag_p5_region_dataframe_test3",
     "locked": true,
     "points": 0.5,
     "schema_version": 3,
     "solution": false,
     "task": false
    }
   },
   "outputs": [],
   "source": [
    "# This should print mean elevation for Alaska\n",
    "print(f\"Alaska mean volcano elevation: {region_data['Mean elevation'].loc['Alaska']} meters.\")\n"
   ]
  },
  {
   "cell_type": "markdown",
   "metadata": {
    "deletable": false,
    "editable": false,
    "nbgrader": {
     "cell_type": "markdown",
     "checksum": "b08851b1463367cdbcbf3539d445b62c",
     "grade": false,
     "grade_id": "cell-531cc40c3359f0a0",
     "locked": true,
     "schema_version": 3,
     "solution": false,
     "task": false
    }
   },
   "source": [
    "### Part 6: Questions for Problem 2 (1 point)\n",
    "\n",
    "1. How much do the standard deviation values vary among the regions? What do these values tell you about the volcano elevations in different regions?\n",
    "2. Do you observe a large difference between the standard deviation and standard error values? Is it clear why you should always indicate whether reported values are standard deviations or standard errors?"
   ]
  },
  {
   "cell_type": "markdown",
   "metadata": {
    "deletable": false,
    "nbgrader": {
     "cell_type": "markdown",
     "checksum": "8e7f48e47e67f7f5ff038bc82b4787a2",
     "grade": true,
     "grade_id": "problem_2_mg_p6_questions",
     "locked": false,
     "points": 1,
     "schema_version": 3,
     "solution": true,
     "task": false
    }
   },
   "source": [
    "YOUR ANSWER HERE"
   ]
  },
  {
   "cell_type": "markdown",
   "metadata": {
    "deletable": false,
    "nbgrader": {
     "cell_type": "markdown",
     "checksum": "eb1ecc9e9486eef8b257fe1c09c58b6b",
     "grade": false,
     "grade_id": "cell-3cc8db1eee42a22c",
     "locked": true,
     "schema_version": 3,
     "solution": false,
     "task": false
    },
    "tags": []
   },
   "source": [
    "## Problem 2: Visualizing uncertainty (9 points)\n",
    "\n",
    "In this problem we will continue to develop our Python mathematical and plotting skills by visualizing the regional volcano data using bar plots and the *normal distribution*. The normal distribution is a mathematical function with a bell shape, also known as the *Gauss function* or *Gaussian*. This function is centered on the mean value of a given set of values, where its value is greatest, and its value decreases away from the mean in what is hopefully a familiar form.\n",
    "\n",
    "### Scores for this problem\n",
    "\n",
    "**Your score on this problem will be based on following criteria:**\n",
    "\n",
    "- Creating bar plots of the regional volcano data\n",
    "- Properly defining a function for calulating normal distributions\n",
    "- Creating a new DataFrame of regional volcano elevation distributions\n",
    "- Including comments that explain what most lines in the code do\n",
    "- Answering a couple questions at the end of the problem\n",
    "- Uploading your notebook to your GitHub repository for this week's exercise"
   ]
  },
  {
   "cell_type": "markdown",
   "metadata": {
    "deletable": false,
    "editable": false,
    "nbgrader": {
     "cell_type": "markdown",
     "checksum": "b0d87d60fc638b024b6fde22981e89e2",
     "grade": false,
     "grade_id": "cell-448d1323c91135a2",
     "locked": true,
     "schema_version": 3,
     "solution": false,
     "task": false
    }
   },
   "source": [
    "### Part 1: A bar plot of our regional volcano data (*1.5 points*)\n",
    "\n",
    "We'll start visualizing our volcano data by creating a bar plot of the mean elevations along with their standard deviations.\n",
    "\n",
    "- Create a bar plot of the mean elevations in the `region_data` DataFrame, including the standard deviation in elevation as an error bar\n",
    "    - The data for the error bars can be assigned using the `yerr` parameter in the `.plot()` function\n",
    "    - We suggest you use a slightly larger figure size of 12 by 8 inches, which can be set using the `figsize` parameter in the `.plot()` function\n",
    "- Include a title and label on the y-axis\n",
    "- Also add a black, dashed line spanning the width of the plot and indicating the global mean volcano elevation\n",
    "    - Check the hints for this week's exercise about how to add this line\n",
    "- Be sure to show a plot legend\n",
    "- Finally, add a figure caption in the Markdown cell below the Python cell for your plot that describes the plot as if it were in a scientific journal article"
   ]
  },
  {
   "cell_type": "code",
   "execution_count": null,
   "metadata": {
    "deletable": false,
    "nbgrader": {
     "cell_type": "code",
     "checksum": "d9145da937c68afdb357c3b91ea1309e",
     "grade": true,
     "grade_id": "problem_3_mg_p1_plot1",
     "locked": false,
     "points": 1,
     "schema_version": 3,
     "solution": true,
     "task": false
    }
   },
   "outputs": [],
   "source": [
    "ax = None\n",
    "\n",
    "# YOUR CODE HERE\n",
    "raise NotImplementedError()"
   ]
  },
  {
   "cell_type": "markdown",
   "metadata": {
    "deletable": false,
    "nbgrader": {
     "cell_type": "markdown",
     "checksum": "743948abf909862523d3b0ad0497cddf",
     "grade": true,
     "grade_id": "problem_3_mg_p1_plot1_caption",
     "locked": false,
     "points": 0.5,
     "schema_version": 3,
     "solution": true,
     "task": false
    }
   },
   "source": [
    "YOUR ANSWER HERE"
   ]
  },
  {
   "cell_type": "markdown",
   "metadata": {
    "deletable": false,
    "nbgrader": {
     "cell_type": "markdown",
     "checksum": "b468884831cfebddca23ec61e17a4064",
     "grade": false,
     "grade_id": "cell-7af90befcceca31b",
     "locked": true,
     "schema_version": 3,
     "solution": false,
     "task": false
    },
    "tags": []
   },
   "source": [
    "### Part 1: One more statistical function (2 points)\n",
    "\n",
    "Your next task in this problem is to define the functions that will be needed to make plots of the normal distributions of the data from Problem 2.\n",
    "We can start with the Gaussian function itself, which has a mathematical definition that is\n",
    "\\begin{equation}\n",
    "  \\Large\n",
    "  G_{\\bar{x}, \\sigma_{x}}(x) = \\frac{1}{\\sigma_{x} \\sqrt{2 \\pi}} e^{-(x - \\bar{x})^{2} / 2 \\sigma_{x}^{2})}\n",
    "\\end{equation}\n",
    "\n",
    "*Equation 4. The normal distribution*.\n",
    "\n",
    "In this equation, $e$ is the exponential function, $x$ is the value for which the normal distribution is calculated (elevation in our case), $\\bar{x}$ is the mean, and $\\sigma_{x}$ is the standard deviation.\n",
    "As we have already defined functions for the mean and standard deviation, you can use your earlier functions here.\n",
    "**Note**: With the Gaussian function we are explicitly assuming here that the uncertainty is symmetric and follows a bell-shaped distribution about the mean.\n",
    "\n",
    "For this part you should:\n",
    "\n",
    "- Add NumPy to the list of modules to import at the start of the `gdam_functions.py` file in order to be able to use the exponential function and one for calculating the square root\n",
    "- Define a new function called `gaussian()` in the `gdam_functions.py` file, which you can use to calculate the normal distribution.\n",
    "    - **Note**: You will have more than one parameter when defining this function.\n",
    "- Use your function in the cell below to calculate the Gaussian value for the specified input parameter values."
   ]
  },
  {
   "cell_type": "code",
   "execution_count": null,
   "metadata": {
    "deletable": false,
    "nbgrader": {
     "cell_type": "code",
     "checksum": "341ec2f8267c84916d6e751ec27e92ba",
     "grade": false,
     "grade_id": "problem_3_ag_p3_gaussian",
     "locked": false,
     "schema_version": 3,
     "solution": true,
     "task": false
    }
   },
   "outputs": [],
   "source": [
    "# Use your gaussian function below to calculate the value for a mean of 2.0, std dev of 1.0, and at x = 1.0\n",
    "from gdam_functions import gaussian\n",
    "\n",
    "gauss_mean = 2.0\n",
    "gauss_stddev = 1.0\n",
    "gauss_x = 1.0\n",
    "test_gauss = None\n",
    "\n",
    "# YOUR CODE HERE\n",
    "raise NotImplementedError()"
   ]
  },
  {
   "cell_type": "code",
   "execution_count": null,
   "metadata": {
    "deletable": false,
    "nbgrader": {
     "cell_type": "code",
     "checksum": "7c7437d895144be24b8c6e3a00b905f7",
     "grade": true,
     "grade_id": "problem_3_ag_p3_gaussian_test1",
     "locked": true,
     "points": 1,
     "schema_version": 3,
     "solution": false,
     "task": false
    },
    "tags": []
   },
   "outputs": [],
   "source": [
    "# Import the new gaussian function along with the old ones\n",
    "from gdam_functions import gaussian\n",
    "\n",
    "# This test should also work\n",
    "print(f\"The Gaussian value for this test should be 0.3989. My Gaussian value is: {gaussian(1, 1, [1])[0]}.\")\n"
   ]
  },
  {
   "cell_type": "code",
   "execution_count": null,
   "metadata": {
    "deletable": false,
    "editable": false,
    "nbgrader": {
     "cell_type": "code",
     "checksum": "aa6c4c4ca20d6112e4e4ca44aefa6112",
     "grade": true,
     "grade_id": "problem_3_ag_p3_gaussian_test2",
     "locked": true,
     "points": 1,
     "schema_version": 3,
     "solution": false,
     "task": false
    }
   },
   "outputs": [],
   "source": [
    "# This test should work\n",
    "print(f\"The Gaussian value for this test should be 0.1994. My Gaussian value is: {gaussian(2, 2, [2])[0]}.\")\n"
   ]
  },
  {
   "cell_type": "markdown",
   "metadata": {
    "deletable": false,
    "editable": false,
    "nbgrader": {
     "cell_type": "markdown",
     "checksum": "49c4bb71ab1aeb2f1fed5e289584c2c6",
     "grade": false,
     "grade_id": "cell-ebd811e52d7f5e6a",
     "locked": true,
     "schema_version": 3,
     "solution": false,
     "task": false
    }
   },
   "source": [
    "### Part 4: Calculating normal distributions for our elevation data (1 point)\n",
    "\n",
    "Your next task now that we have the functions defined is to calculate the normal distributions for each of the regional volcano elevations from Problem 2. You can use the mean and standard deviation values calculated in the `region_data` DataFrame for this.\n",
    "\n",
    "- Define a NumPy array called `elevations` that goes from 0 to 8000 meters in 1001 steps\n",
    "- Create a new empty Pandas DataFrame called `gaussians` with `elevations` as the index\n",
    "- Use a `for` loop to loop over each region in the `regions` array defined back in Problem 2\n",
    "    - For each region, calculate the normal distribution of volcano elevations using the regional mean elevation and standard deviation in elevation over the range of elevations in the `elevations` array\n",
    "    - Save each normal distribution in a new column named for the region\n",
    "        - As you may recall, you can easily add a new column by assigning values to a new column name in the DataFrame. For example, `df['New column'] = elevations` would assign the values from the `elevations` array to a new column in the DataFrame `df` called `'New column'`"
   ]
  },
  {
   "cell_type": "code",
   "execution_count": null,
   "metadata": {
    "deletable": false,
    "nbgrader": {
     "cell_type": "code",
     "checksum": "d94eb22e1e332136f11c3a54d51be04f",
     "grade": false,
     "grade_id": "problem_3_ag_p4_gaussians",
     "locked": false,
     "schema_version": 3,
     "solution": true,
     "task": false
    }
   },
   "outputs": [],
   "source": [
    "# Array of elevations\n",
    "elevations = None\n",
    "\n",
    "# New DataFrame for normal distributions\n",
    "gaussians = None\n",
    "\n",
    "# YOUR CODE HERE\n",
    "raise NotImplementedError()"
   ]
  },
  {
   "cell_type": "code",
   "execution_count": null,
   "metadata": {
    "deletable": false,
    "editable": false,
    "nbgrader": {
     "cell_type": "code",
     "checksum": "759ce68ac842804c2a7b966c4788d3e7",
     "grade": true,
     "grade_id": "problem_3_ag_p4_gaussians_test1",
     "locked": true,
     "points": 0.5,
     "schema_version": 3,
     "solution": false,
     "task": false
    }
   },
   "outputs": [],
   "source": [
    "# This test print should work\n",
    "print(f\"The elevation at index 400 is {elevations[400]}. The expected value is 3200.0.\")\n"
   ]
  },
  {
   "cell_type": "code",
   "execution_count": null,
   "metadata": {
    "deletable": false,
    "editable": false,
    "nbgrader": {
     "cell_type": "code",
     "checksum": "eda34330069e0b98ecb0a22bf387ff5b",
     "grade": true,
     "grade_id": "problem_3_ag_p4_gaussians_test2",
     "locked": true,
     "points": 0.5,
     "schema_version": 3,
     "solution": false,
     "task": false
    }
   },
   "outputs": [],
   "source": [
    "# This should print the shape of the DataFrame\n",
    "print(f\"DataFrame dimensions: {gaussians.shape}\")\n"
   ]
  },
  {
   "cell_type": "markdown",
   "metadata": {
    "deletable": false,
    "editable": false,
    "nbgrader": {
     "cell_type": "markdown",
     "checksum": "f938c9573e5b5dd22de98de58382298d",
     "grade": false,
     "grade_id": "cell-057208d46f9b003d",
     "locked": true,
     "schema_version": 3,
     "solution": false,
     "task": false
    }
   },
   "source": [
    "### Part 5: Plotting our volcano data, version 2.0 (2 points)\n",
    "\n",
    "Finally, we can plot our normal distributions.\n",
    "\n",
    "- Create a plot of the data in the `gaussians` DataFrame using the Pandas `.plot()` function\n",
    "    - Include a title and again we suggest a figure size of 12 by 8 inches\n",
    "- Label the x- and y-axes\n",
    "    - The y-axis label should be 'Probability'\n",
    "- Set the range for the y-axis to go from 0.0 to 0.0016\n",
    "- Finally, add a figure caption in the Markdown cell below the Python cell for your plot that describes the plot as if it were in a scientific journal article"
   ]
  },
  {
   "cell_type": "code",
   "execution_count": null,
   "metadata": {
    "deletable": false,
    "nbgrader": {
     "cell_type": "code",
     "checksum": "6542f7ff019fc5face9bde506ca1d1a5",
     "grade": true,
     "grade_id": "problem_3_mg_p5_plot3",
     "locked": false,
     "points": 1.5,
     "schema_version": 3,
     "solution": true,
     "task": false
    }
   },
   "outputs": [],
   "source": [
    "ax = None\n",
    "\n",
    "# YOUR CODE HERE\n",
    "raise NotImplementedError()"
   ]
  },
  {
   "cell_type": "markdown",
   "metadata": {
    "deletable": false,
    "nbgrader": {
     "cell_type": "markdown",
     "checksum": "525400ed1a3aa263192a35eca3ac4e22",
     "grade": true,
     "grade_id": "problem_3_mg_p5_plot3_caption",
     "locked": false,
     "points": 0.5,
     "schema_version": 3,
     "solution": true,
     "task": false
    }
   },
   "source": [
    "YOUR ANSWER HERE"
   ]
  },
  {
   "cell_type": "markdown",
   "metadata": {
    "deletable": false,
    "editable": false,
    "nbgrader": {
     "cell_type": "markdown",
     "checksum": "e7e591c896c2feb2d8acf1fd5da34d6e",
     "grade": false,
     "grade_id": "cell-cb265de65d73d7aa",
     "locked": true,
     "schema_version": 3,
     "solution": false,
     "task": false
    }
   },
   "source": [
    "### Part 6: Questions for Problem 3 (1 point)\n",
    "\n",
    "1. How does the shape of the Gaussian distribution change for different values of the standard deviation?\n",
    "2. Using this method of visualization, is it clear which regions have larger or smaller variations in average volcano elevation?"
   ]
  },
  {
   "cell_type": "markdown",
   "metadata": {
    "deletable": false,
    "nbgrader": {
     "cell_type": "markdown",
     "checksum": "958f55aa476361513321b6897e883eb0",
     "grade": true,
     "grade_id": "problem_3_mg_p6_questions",
     "locked": false,
     "points": 1,
     "schema_version": 3,
     "solution": true,
     "task": false
    }
   },
   "source": [
    "YOUR ANSWER HERE"
   ]
  }
 ],
 "metadata": {
  "kernelspec": {
   "display_name": "Python 3 (ipykernel)",
   "language": "python",
   "name": "python3"
  },
  "language_info": {
   "codemirror_mode": {
    "name": "ipython",
    "version": 3
   },
   "file_extension": ".py",
   "mimetype": "text/x-python",
   "name": "python",
   "nbconvert_exporter": "python",
   "pygments_lexer": "ipython3",
   "version": "3.7.11"
  }
 },
 "nbformat": 4,
 "nbformat_minor": 4
}
